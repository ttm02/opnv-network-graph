{
 "cells": [
  {
   "cell_type": "code",
   "id": "initial_id",
   "metadata": {
    "collapsed": true
   },
   "source": [
    "import json\n",
    "import difflib\n",
    "\n",
    "from matplotlib import pyplot as plt\n",
    "import matplotlib.cm as cm\n",
    "from tqdm import tqdm\n",
    "\n",
    "from network import *\n",
    "from analyze_graph import *\n",
    "import smopy\n",
    "import pandas as pd\n"
   ],
   "outputs": [],
   "execution_count": null
  },
  {
   "metadata": {},
   "cell_type": "code",
   "source": [
    "network = Network()\n",
    "network.set_stops(\"network.db\")\n",
    "stops_data = pd.read_csv(\"stops.csv\", index_col=\"DHID\")\n",
    "\n"
   ],
   "id": "85fae8e4eeee339b",
   "outputs": [],
   "execution_count": null
  },
  {
   "metadata": {},
   "cell_type": "code",
   "source": "darmstadt=find_closest_station_id_by_name(\"Darmstadt Schloss\",stops_data)\n",
   "id": "9aa4099e5828a982",
   "outputs": [],
   "execution_count": null
  },
  {
   "metadata": {},
   "cell_type": "code",
   "source": "stops_data.loc[darmstadt]",
   "id": "60dac60571ad7328",
   "outputs": [],
   "execution_count": null
  },
  {
   "metadata": {},
   "cell_type": "code",
   "source": [
    "start_station = darmstadt\n",
    "time_limit = 30\n",
    "start_time = time_to_minutes(\"09:00\")\n",
    "reachable = network.get_reachable_stations_in_time(start_station, start_time, time_limit)"
   ],
   "id": "ce599dcc08e6f66a",
   "outputs": [],
   "execution_count": null
  },
  {
   "metadata": {},
   "cell_type": "code",
   "source": "",
   "id": "74ee64998b294a23",
   "outputs": [],
   "execution_count": null
  },
  {
   "metadata": {},
   "cell_type": "code",
   "source": [
    "min_lat = 180\n",
    "min_long = 180\n",
    "max_lat = -180\n",
    "max_long = -180\n",
    "\n",
    "coordinates = []\n",
    "for station in reachable:\n",
    "    lat = stops_data.loc[station][\"Latitude\"]\n",
    "    lon = stops_data.loc[station][\"Longitude\"]\n",
    "    coordinates.append((lat, lon))\n",
    "\n",
    "    min_lat = min(min_lat, lat)\n",
    "    min_long = min(min_long, lon)\n",
    "    max_lat = max(max_lat, lat)\n",
    "    max_long = max(max_long, lon)\n",
    "\n",
    "# area to plot\n",
    "map_box = (min_lat, min_long, max_lat, max_long)\n",
    "#print(map_box)\n",
    "map = smopy.Map(map_box)\n",
    "\n",
    "# figsize is used for resolution\n",
    "ax = map.show_mpl(figsize=(12, 12))\n",
    "\n",
    "# TODO annotation is not working correctly\n",
    "ax.annotate(\n",
    "    \"Reachable from %s (%s) until %s (%i stops)\" % (\n",
    "        stops_data.loc[start_station, \"Name\"],\n",
    "        minutes_to_time(start_time),\n",
    "        minutes_to_time(start_time + time_limit),\n",
    "        len(reachable)),\n",
    "    xy=(0.5, 1.02),  # Position relative to axes (centered above the map)\n",
    "    xycoords=\"axes fraction\",\n",
    "    fontsize=24,\n",
    "    ha=\"center\",  # Center horizontally\n",
    "    va=\"bottom\",  # Position below the top edge\n",
    ")\n",
    "\n",
    "for lat, lon in coordinates:\n",
    "    x, y = map.to_pixels(lat, lon)\n",
    "    ax.plot(x, y, 'or', ms=10, mew=2)"
   ],
   "id": "acf160857507471a",
   "outputs": [],
   "execution_count": null
  },
  {
   "metadata": {},
   "cell_type": "code",
   "source": [
    "map_box = (49.8388, 8.560719, 49.931479, 8.750582) # area around Darmstadt\n",
    "# select stops in that area\n",
    "in_area = stops_data[(stops_data[\"Latitude\"] > map_box[0]) &\n",
    "    (stops_data[\"Latitude\"] < map_box[2]) &\n",
    "    (stops_data[\"Longitude\"] > map_box[1]) &\n",
    "    (stops_data[\"Longitude\"] < map_box[3]) ].copy()"
   ],
   "id": "8bd904fa4fb9b0c4",
   "outputs": [],
   "execution_count": null
  },
  {
   "metadata": {},
   "cell_type": "code",
   "source": [
    "end_of_day = 3*60+50 #03:59\n",
    "# a bus leaving at 0:30 is part of the old daythat is your ticket from the previous day is still valid\n",
    "\n",
    "def get_early(stop_id):\n",
    "    earliest_depature = 23*60+59 # 23:59\n",
    "    for stop_id, timetable in network.stops[stop_id].items():\n",
    "        timetable.sort()\n",
    "        idx=0\n",
    "        while idx < len(timetable) and timetable[idx][0] < end_of_day:\n",
    "            idx += 1\n",
    "        # found the next departure\n",
    "        if idx < len(timetable):\n",
    "            earliest_depature = min(timetable[idx][0],earliest_depature)\n",
    "    return earliest_depature\n",
    "\n",
    "# to_series as, as the stop_id is the index\n",
    "in_area[\"first_departure\"] = in_area.index.to_series().apply(get_early)"
   ],
   "id": "22d922ccdfe1d789",
   "outputs": [],
   "execution_count": null
  },
  {
   "metadata": {},
   "cell_type": "code",
   "source": [
    "from matplotlib.lines import Line2D\n",
    "\n",
    "in_area[\"first_departure_hour\"] =in_area[\"first_departure\"] //60 # only the hour\n",
    "\n",
    "unique_hours = sorted(in_area[\"first_departure_hour\"].unique())\n",
    "n_colors = len(unique_hours)\n",
    "colors = cm.get_cmap(\"tab10\", n_colors)  # Or \"tab20\", \"Set3\", etc.\n",
    "hour_to_color = {hour: colors(i) for i, hour in enumerate(unique_hours)}\n",
    "\n",
    "map = smopy.Map(map_box)\n",
    "\n",
    "# figsize is used for resolution\n",
    "ax = map.show_mpl(figsize=(12, 12))\n",
    "\n",
    "# TODO annotation is not working correctly\n",
    "ax.annotate(\n",
    "    \"Earliest Depature (after 03:50)\",\n",
    "    xy=(0.5, 1.02),  # Position relative to axes (centered above the map)\n",
    "    xycoords=\"axes fraction\",\n",
    "    fontsize=24,\n",
    "    ha=\"center\",  # Center horizontally\n",
    "    va=\"bottom\",  # Position below the top edge\n",
    ")\n",
    "\n",
    "for _, row in in_area.iterrows():\n",
    "    x, y = map.to_pixels(row[\"Latitude\"], row[\"Longitude\"])\n",
    "    ax.plot(x, y, 'or',color=hour_to_color[row[\"first_departure_hour\"]], ms=10, mew=2)\n",
    "\n",
    "legend_elements = [\n",
    "    Line2D([0], [0], marker='o', color='w', label=f\"{hour}:00\",\n",
    "           markerfacecolor=color, markersize=10)\n",
    "    for hour, color in hour_to_color.items() if hour != 23\n",
    "]\n",
    "ax.legend(handles=legend_elements, title=\"First Departure Hour\")"
   ],
   "id": "df743b3b8a5de32b",
   "outputs": [],
   "execution_count": null
  },
  {
   "metadata": {},
   "cell_type": "code",
   "source": "",
   "id": "6c8eb5bb8d4ad3a7",
   "outputs": [],
   "execution_count": null
  },
  {
   "metadata": {},
   "cell_type": "code",
   "source": "",
   "id": "69371c9f99c9f55",
   "outputs": [],
   "execution_count": null
  }
 ],
 "metadata": {
  "kernelspec": {
   "display_name": "Python 3",
   "language": "python",
   "name": "python3"
  },
  "language_info": {
   "codemirror_mode": {
    "name": "ipython",
    "version": 2
   },
   "file_extension": ".py",
   "mimetype": "text/x-python",
   "name": "python",
   "nbconvert_exporter": "python",
   "pygments_lexer": "ipython2",
   "version": "2.7.6"
  }
 },
 "nbformat": 4,
 "nbformat_minor": 5
}
